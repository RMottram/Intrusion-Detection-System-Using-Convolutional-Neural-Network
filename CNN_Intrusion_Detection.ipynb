{
  "nbformat": 4,
  "nbformat_minor": 0,
  "metadata": {
    "colab": {
      "name": "CNN  Intrusion_Detection.ipynb",
      "provenance": [],
      "collapsed_sections": []
    },
    "kernelspec": {
      "name": "python3",
      "display_name": "Python 3"
    },
    "accelerator": "GPU"
  },
  "cells": [
    {
      "cell_type": "code",
      "metadata": {
        "id": "kF7li9zoRpoI",
        "outputId": "8c7075c4-6f11-44ce-ac37-a73fc94f5c5d",
        "colab": {
          "base_uri": "https://localhost:8080/",
          "height": 34
        }
      },
      "source": [
        "from google.colab import drive\n",
        "import pandas as pd\n",
        "import numpy as np\n",
        "from sklearn.preprocessing import (StandardScaler, OrdinalEncoder,LabelEncoder, MinMaxScaler, OneHotEncoder)\n",
        "!pip install -q keras\n",
        "from keras.utils import to_categorical\n",
        "from sklearn.naive_bayes import GaussianNB\n",
        "from sklearn.feature_extraction.text import CountVectorizer\n",
        "from sklearn.preprocessing import Normalizer, MaxAbsScaler , RobustScaler, PowerTransformer\n",
        "import matplotlib.pyplot as plt\n",
        "import seaborn as sns\n",
        "\n",
        "\n",
        "\n",
        "\n",
        "drive.mount('/content/drive')"
      ],
      "execution_count": null,
      "outputs": [
        {
          "output_type": "stream",
          "text": [
            "Drive already mounted at /content/drive; to attempt to forcibly remount, call drive.mount(\"/content/drive\", force_remount=True).\n"
          ],
          "name": "stdout"
        }
      ]
    },
    {
      "cell_type": "code",
      "metadata": {
        "id": "AYSWHZfRRyG5"
      },
      "source": [
        "#train+, test+ and test21- dataset loading\n",
        "train='/content/drive/My Drive/Datasets/NSL-KDD/nsl-kdd/KDDTrain+.txt'\n",
        "test='/content/drive/My Drive/Datasets/NSL-KDD/nsl-kdd/KDDTest+.txt'\n",
        "test21='/content/drive/My Drive/Datasets/NSL-KDD/nsl-kdd/KDDTest-21.txt'\n",
        "\n",
        "featureV=[\"duration\",\"protocol_type\",\"service\",\"flag\",\"src_bytes\",\"dst_bytes\",\"land\",\"wrong_fragment\",\"urgent\",\"hot\",\n",
        "          \"num_failed_logins\",\"logged_in\",\"num_compromised\",\"root_shell\",\"su_attempted\",\"num_root\",\"num_file_creations\",\"num_shells\",\n",
        "          \"num_access_files\",\"num_outbound_cmds\",\"is_host_login\",\"is_guest_login\",\"count\",\"srv_count\",\"serror_rate\",\"srv_serror_rate\",\n",
        "          \"rerror_rate\",\"srv_rerror_rate\",\"same_srv_rate\",\"diff_srv_rate\",\"srv_diff_host_rate\",\"dst_host_count\",\"dst_host_srv_count\", \n",
        "          \"dst_host_same_srv_rate\",\"dst_host_diff_srv_rate\",\"dst_host_same_src_port_rate\",\"dst_host_srv_diff_host_rate\",\"dst_host_serror_rate\",\n",
        "          \"dst_host_srv_serror_rate\",\"dst_host_rerror_rate\",\"dst_host_srv_rerror_rate\",\"label\",\"difficulty\"]\n",
        "\n",
        "flagV=['OTH','RSTOS0','SF','SH','RSTO','S2','S1','REJ','S3','RSTR','S0']\n",
        "\n",
        "protocol_typeV=['tcp','udp','icmp']\n",
        "\n",
        "serviceV=['http','smtp','finger','domain_u','auth','telnet','ftp','eco_i','ntp_u','ecr_i','other','private','pop_3','ftp_data',\n",
        "                  'rje','time','mtp','link','remote_job','gopher','ssh','name','whois','domain','login','imap4','daytime','ctf','nntp',\n",
        "                  'shell','IRC','nnsp','http_443','exec','printer','efs','courier','uucp','klogin','kshell','echo','discard','systat',\n",
        "                  'supdup','iso_tsap','hostnames','csnet_ns','pop_2','sunrpc','uucp_path','netbios_ns','netbios_ssn','netbios_dgm',\n",
        "                  'sql_net','vmnet','bgp','Z39_50','ldap','netstat','urh_i','X11','urp_i','pm_dump','tftp_u','tim_i','red_i','icmp',\n",
        "                  'http_2784','harvest','aol','http_8001']\n",
        "\n",
        "binary_attack=['normal','ipsweep', 'nmap', 'portsweep','satan', 'saint', 'mscan','back', 'land', 'neptune', 'pod', 'smurf',\n",
        "               'teardrop', 'apache2', 'udpstorm', 'processtable','mailbomb','buffer_overflow', 'loadmodule', 'perl', 'rootkit',\n",
        "               'xterm', 'ps', 'sqlattack','ftp_write', 'guess_passwd', 'imap', 'multihop','phf', 'spy', 'warezclient',\n",
        "               'warezmaster','snmpgetattack','named', 'xlock', 'xsnoop','sendmail', 'httptunnel', 'worm', 'snmpguess']\n",
        "\n",
        "multiclass_attack={ 'normal': 'normal',\n",
        "        'probe': ['ipsweep.', 'nmap.', 'portsweep.','satan.', 'saint.', 'mscan.'],\n",
        "        'dos': ['back.', 'land.', 'neptune.', 'pod.', 'smurf.','teardrop.', 'apache2.', 'udpstorm.', 'processtable.','mailbomb.'],\n",
        "        'u2r': ['buffer_overflow.', 'loadmodule.', 'perl.', 'rootkit.','xterm.', 'ps.', 'sqlattack.'],\n",
        "        'r2l': ['ftp_write.', 'guess_passwd.', 'imap.', 'multihop.','phf.', 'spy.', 'warezclient.', 'warezmaster.','snmpgetattack.',\n",
        "                   'named.', 'xlock.', 'xsnoop.','sendmail.', 'httptunnel.', 'worm.', 'snmpguess.']}                   "
      ],
      "execution_count": null,
      "outputs": []
    },
    {
      "cell_type": "code",
      "metadata": {
        "id": "ucmcpiZKdzq3"
      },
      "source": [
        "train_data=pd.read_csv(train,names=featureV)\n",
        "test_data=pd.read_csv(test,names=featureV)"
      ],
      "execution_count": null,
      "outputs": []
    },
    {
      "cell_type": "code",
      "metadata": {
        "id": "kS0AWyOZcbCN"
      },
      "source": [
        "test_21 = pd.read_csv(test21, names= featureV)"
      ],
      "execution_count": null,
      "outputs": []
    },
    {
      "cell_type": "code",
      "metadata": {
        "id": "J8-VpMmXtT2Y"
      },
      "source": [
        "train_data = train_data.query(\"service != 'aol'\")\n",
        "train_data = train_data.query(\"service != 'harvest'\")\n",
        "train_data = train_data.query(\"service != 'http_2784'\")\n",
        "train_data = train_data.query(\"service != 'http_8001'\")\n",
        "train_data = train_data.query(\"service != 'red_i'\")\n",
        "train_data = train_data.query(\"service != 'urh_i'\")\n",
        "train_data = train_data.query(\"service != 'printer'\")\n",
        "train_data = train_data.query(\"service != 'rje'\")\n",
        "\n",
        "\n",
        "#-------------------------------------------------------------------------------->>>>\n",
        "\n",
        "test_data = test_data.query(\"service != 'printer'\")\n",
        "test_data = test_data.query(\"service != 'rje'\")"
      ],
      "execution_count": null,
      "outputs": []
    },
    {
      "cell_type": "markdown",
      "metadata": {
        "id": "sve89FgBxQer"
      },
      "source": [
        "# Working with **Training** Data "
      ]
    },
    {
      "cell_type": "code",
      "metadata": {
        "id": "_BWVOVVvturS"
      },
      "source": [
        "def bar_graph(feature):\n",
        "    train_data[feature].value_counts().plot(kind=\"bar\")"
      ],
      "execution_count": null,
      "outputs": []
    },
    {
      "cell_type": "code",
      "metadata": {
        "id": "RJYduSsQtxvm",
        "outputId": "b1a7cc26-2c6f-4cb7-86b9-998f9e374809",
        "colab": {
          "base_uri": "https://localhost:8080/",
          "height": 280
        }
      },
      "source": [
        "bar_graph('protocol_type')"
      ],
      "execution_count": null,
      "outputs": [
        {
          "output_type": "display_data",
          "data": {
            "image/png": "[encoded data removed]",
            "text/plain": [
              "<Figure size 432x288 with 1 Axes>"
            ]
          },
          "metadata": {
            "tags": [],
            "needs_background": "light"
          }
        }
      ]
    },
    {
      "cell_type": "code",
      "metadata": {
        "id": "GAVID7iDt_z-",
        "outputId": "940d7249-6199-423c-ed7d-69108a1d1790",
        "colab": {
          "base_uri": "https://localhost:8080/",
          "height": 265
        }
      },
      "source": [
        "plt.figure(figsize=(15,3))\n",
        "bar_graph('service')"
      ],
      "execution_count": null,
      "outputs": [
        {
          "output_type": "display_data",
          "data": {
            "image/png": "[encoded data removed]",
            "text/plain": [
              "<Figure size 1080x216 with 1 Axes>"
            ]
          },
          "metadata": {
            "tags": [],
            "needs_background": "light"
          }
        }
      ]
    },
    {
      "cell_type": "code",
      "metadata": {
        "id": "iCAfinWEuN2p",
        "outputId": "536ff397-bfc4-4ee1-cc9b-e2793909ebae",
        "colab": {
          "base_uri": "https://localhost:8080/",
          "height": 295
        }
      },
      "source": [
        "bar_graph('flag')"
      ],
      "execution_count": null,
      "outputs": [
        {
          "output_type": "display_data",
          "data": {
            "image/png": "[encoded data removed]",
            "text/plain": [
              "<Figure size 432x288 with 1 Axes>"
            ]
          },
          "metadata": {
            "tags": [],
            "needs_background": "light"
          }
        }
      ]
    },
    {
      "cell_type": "code",
      "metadata": {
        "id": "2cxiFiVjuYfO",
        "outputId": "0a61d91a-a079-4afe-acfc-2573c2a9ccad",
        "colab": {
          "base_uri": "https://localhost:8080/",
          "height": 262
        }
      },
      "source": [
        "bar_graph('logged_in')"
      ],
      "execution_count": null,
      "outputs": [
        {
          "output_type": "display_data",
          "data": {
            "image/png": "[encoded data removed]",
            "text/plain": [
              "<Figure size 432x288 with 1 Axes>"
            ]
          },
          "metadata": {
            "tags": [],
            "needs_background": "light"
          }
        }
      ]
    },
    {
      "cell_type": "code",
      "metadata": {
        "id": "IhNAaC8TuYmt",
        "outputId": "4dd41a2b-6194-4d61-d559-8393af548066",
        "colab": {
          "base_uri": "https://localhost:8080/",
          "height": 335
        }
      },
      "source": [
        "bar_graph('label')"
      ],
      "execution_count": null,
      "outputs": [
        {
          "output_type": "display_data",
          "data": {
            "image/png": "[encoded data removed]",
            "text/plain": [
              "<Figure size 432x288 with 1 Axes>"
            ]
          },
          "metadata": {
            "tags": [],
            "needs_background": "light"
          }
        }
      ]
    },
    {
      "cell_type": "markdown",
      "metadata": {
        "id": "wCe_6dcC3hhj"
      },
      "source": [
        "# **Correlations**"
      ]
    },
    {
      "cell_type": "code",
      "metadata": {
        "id": "6A_5kkHh3gch"
      },
      "source": [
        ""
      ],
      "execution_count": null,
      "outputs": []
    },
    {
      "cell_type": "markdown",
      "metadata": {
        "id": "z0Ut9swezyek"
      },
      "source": [
        "# Working with **Validation** data"
      ]
    },
    {
      "cell_type": "code",
      "metadata": {
        "id": "i86U5064xJNn"
      },
      "source": [
        "def preprocessing(data,cls,df):\n",
        "  \n",
        "#----------attack categorization----------------->\n",
        "  data['label']=data['label'].replace(['normal.','normal'],0)\n",
        "\n",
        "#----------------------binary classification--------------------->\n",
        "  if cls=='binary':\n",
        "    for i in range(len(binary_attack)):\n",
        "      data['label'] = data['label'].replace(binary_attack[i], 1)\n",
        "  \n",
        "#---------------multiclass classification-------------------->  \n",
        "  elif cls=='multiclass':\n",
        "    for i in range(len(multiclass_attack['probe'])):\n",
        "      data['label']=data['label'].replace([multiclass_attack['probe'][i],multiclass_attack['probe'][i][:-1]],1)\n",
        "    \n",
        "    for i in range(len(multiclass_attack['dos'])):\n",
        "      data['label']=data['label'].replace([multiclass_attack['dos'][i],multiclass_attack['dos'][i][:-1]],2)\n",
        "    \n",
        "    for i in range(len(multiclass_attack['u2r'])):\n",
        "      data['label']=data['label'].replace([multiclass_attack['u2r'][i],multiclass_attack['u2r'][i][:-1]],3)\n",
        "    \n",
        "    for i in range(len(multiclass_attack['r2l'])):\n",
        "      data['label'] = data['label'].replace([multiclass_attack['r2l'][i],multiclass_attack['r2l'][i][:-1]],4)\n",
        "#------------------------------------------------>\n",
        "\n",
        "\n",
        "#-------------------------splitting features and labels---------------->\n",
        "  y=data['label']\n",
        "  x=data.loc[:,'duration':'hot']\n",
        "#---------------------------------------------------------------------->\n",
        "\n",
        "\n",
        "#-----------------------------------converting string objects to int------------------------>\n",
        "  #for i in range(len(protocol_typeV)):\n",
        "   # x['protocol_type'] = x['protocol_type'].replace(protocol_typeV[i], i)\n",
        "  \n",
        "  #for i in range(len(serviceV)):\n",
        "   # x['service'] = x['service'].replace(serviceV[i], i+1)\n",
        "\n",
        "  #for i in range(len(flagV)):\n",
        "   # x['flag'] = x['flag'].replace(flagV[i], i+1)\n",
        "#------------------------------------------------------------------------------------------->\n",
        "\n",
        "#-----------------converting to binary feature vectors-------------------------------------->  \n",
        "  t=x.protocol_type.copy()\n",
        "  t=pd.get_dummies(t)\n",
        "  x=x.drop(columns='protocol_type',axis=1)\n",
        "  x=x.join(t)\n",
        "\n",
        "  t1=x.service.copy()\n",
        "  t1=pd.get_dummies(t1)\n",
        "  x=x.drop(columns='service',axis=1)\n",
        "  x=x.join(t1)\n",
        "\n",
        "  t2=x.flag.copy()\n",
        "  t2=pd.get_dummies(t2)\n",
        "  x=x.drop(columns='flag',axis=1)\n",
        "  x=x.join(t2)\n",
        "#------------------------------------------------------------------------------>\n",
        "\n",
        "#-----------------converting to binary label vectors--------------------------------------> \n",
        "  yt=y.copy()\n",
        "  yt=pd.get_dummies(yt)\n",
        "#------------------------------------------------------------------------------>\n",
        "\n",
        "  x = MinMaxScaler(feature_range=(0, 1)).fit_transform(x)\n",
        "  # x = MaxAbsScaler().fit_transform(x)\n",
        "  # x = StandardScaler().fit_transform(x)\n",
        "  #print(x)\n",
        "  #vectorizer = CountVectorizer()\n",
        "  #p= vectorizer.fit_transform(x.protocol_type)\n",
        "\n",
        "  #print(np.shape(p))\n",
        "  #scaler = Normalizer(norm='l1').fit(x)\n",
        "  #trainX = scaler.transform(x)\n",
        "  if df=='train':\n",
        "    return x,yt\n",
        "  else:\n",
        "    return x,y  "
      ],
      "execution_count": null,
      "outputs": []
    },
    {
      "cell_type": "code",
      "metadata": {
        "id": "pTgGtvCS0nuw"
      },
      "source": [
        "x_train,Y_train=preprocessing(train_data,cls='binary',df='train')\n",
        "x_test,Y_test=preprocessing(test_data,cls='binary',df='test')"
      ],
      "execution_count": null,
      "outputs": []
    },
    {
      "cell_type": "code",
      "metadata": {
        "id": "Gdw7Hb7DhM_d"
      },
      "source": [
        "x_21_test, y_21_test = preprocessing(test_21, cls = 'binary', df = 'test21')"
      ],
      "execution_count": null,
      "outputs": []
    },
    {
      "cell_type": "code",
      "metadata": {
        "id": "B939ipnRiM7y",
        "outputId": "48b5d8b1-f412-4f46-8219-be4833f1c86e",
        "colab": {
          "base_uri": "https://localhost:8080/",
          "height": 119
        }
      },
      "source": [
        "print(np.shape(x_train))\n",
        "print(np.shape(Y_train))\n",
        "print(np.shape(x_test))\n",
        "print(np.shape(Y_test))\n",
        "print(np.shape(x_21_test))\n",
        "print(np.shape(y_21_test))"
      ],
      "execution_count": null,
      "outputs": [
        {
          "output_type": "stream",
          "text": [
            "(125793, 83)\n",
            "(125793, 2)\n",
            "(22525, 83)\n",
            "(22525,)\n",
            "(11850, 83)\n",
            "(11850,)\n"
          ],
          "name": "stdout"
        }
      ]
    },
    {
      "cell_type": "code",
      "metadata": {
        "id": "V8MHi4XfjvLO",
        "outputId": "95499a24-34f3-4da0-968c-be315c06f244",
        "colab": {
          "base_uri": "https://localhost:8080/",
          "height": 34
        }
      },
      "source": [
        "x_train = np.reshape(x_train, (x_train.shape[0], x_train.shape[1], 1))\n",
        "x_train.shape"
      ],
      "execution_count": null,
      "outputs": [
        {
          "output_type": "execute_result",
          "data": {
            "text/plain": [
              "(125793, 83, 1)"
            ]
          },
          "metadata": {
            "tags": []
          },
          "execution_count": 179
        }
      ]
    },
    {
      "cell_type": "code",
      "metadata": {
        "id": "xzDgJGguj3Iv",
        "outputId": "69cd9ada-81c7-4b6d-cfe5-869b2d980567",
        "colab": {
          "base_uri": "https://localhost:8080/",
          "height": 34
        }
      },
      "source": [
        "x_test = np.reshape(x_test, (x_test.shape[0], x_test.shape[1], 1))\n",
        "x_test.shape"
      ],
      "execution_count": null,
      "outputs": [
        {
          "output_type": "execute_result",
          "data": {
            "text/plain": [
              "(22525, 83, 1)"
            ]
          },
          "metadata": {
            "tags": []
          },
          "execution_count": 180
        }
      ]
    },
    {
      "cell_type": "code",
      "metadata": {
        "id": "aK8nS_Q6iQuF",
        "outputId": "19ad8952-f1d2-4a65-8986-c66294fef777",
        "colab": {
          "base_uri": "https://localhost:8080/",
          "height": 34
        }
      },
      "source": [
        "x_21_test = np.reshape(x_21_test, (x_21_test.shape[0], x_21_test.shape[1], 1))\n",
        "x_21_test.shape\n"
      ],
      "execution_count": null,
      "outputs": [
        {
          "output_type": "execute_result",
          "data": {
            "text/plain": [
              "(11850, 83, 1)"
            ]
          },
          "metadata": {
            "tags": []
          },
          "execution_count": 181
        }
      ]
    },
    {
      "cell_type": "markdown",
      "metadata": {
        "id": "G6j5pHdf3lYt"
      },
      "source": [
        "# Model"
      ]
    },
    {
      "cell_type": "code",
      "metadata": {
        "id": "Re8nmtgqj7Zw"
      },
      "source": [
        "from keras.models import Sequential\n",
        "from keras.layers import Dense, LSTM, Dropout, SimpleRNN , GRU , Activation\n",
        "from keras.layers.normalization import BatchNormalization\n",
        "from keras import optimizers\n",
        "import tensorflow as tf\n",
        "from keras.layers import Convolution1D, Dense, Dropout, Flatten, MaxPooling1D , AveragePooling1D"
      ],
      "execution_count": null,
      "outputs": []
    },
    {
      "cell_type": "code",
      "metadata": {
        "id": "PZ2sIwlOkBXt"
      },
      "source": [
        "model = Sequential()\n",
        "\n",
        "model.add(Convolution1D(32, 3, padding=\"same\",activation=\"relu\",input_shape = (x_train.shape[1], 1)))\n",
        "# model.add(Convolution1D(32, 3, activation=\"relu\"))\n",
        "model.add(MaxPooling1D(pool_size=(4)))\n",
        "# model.add(tf.keras.layers.LayerNormalization())\n",
        "# model.add(GRU(units = 128, return_sequences=True, input_shape = (x_train.shape[1], 1)))\n",
        "model.add(Dropout(0.5))\n",
        "\n",
        "model.add(Convolution1D(64, 3, padding=\"same\",activation=\"relu\"))\n",
        "# model.add(Convolution1D(64, 3,activation=\"relu\"))\n",
        "model.add(MaxPooling1D(pool_size=(2)))\n",
        "model.add(Dropout(0.5))\n",
        "# model.add(tf.keras.layers.LayerNormalization())\n",
        "\n",
        "# model.add(Convolution1D(64, 3, padding=\"same\",activation=\"relu\"))\n",
        "# model.add(Convolution1D(64, 3,activation=\"relu\"))\n",
        "# model.add(AveragePooling1D(pool_size=(2)))\n",
        "# model.add(Dropout(0.2))\n",
        "\n",
        "model.add(Flatten())\n",
        "model.add(Dense(256, activation=\"relu\"))\n",
        "model.add(Dropout(0.5))\n",
        "model.add(Dense(2, activation=\"softmax\"))"
      ],
      "execution_count": null,
      "outputs": []
    },
    {
      "cell_type": "code",
      "metadata": {
        "id": "R85Adnd0jjh9"
      },
      "source": [
        "from sklearn.model_selection import cross_validate\n",
        "from sklearn.model_selection import train_test_split"
      ],
      "execution_count": null,
      "outputs": []
    },
    {
      "cell_type": "code",
      "metadata": {
        "id": "W8IXUK7qkZXT",
        "outputId": "1a1d6590-2c38-4af9-8605-a959119ed098",
        "colab": {
          "base_uri": "https://localhost:8080/",
          "height": 1000
        }
      },
      "source": [
        "# tf.keras.optimizers.Adam(\n",
        "#     learning_rate=0.001, beta_1=0.9, beta_2=0.999, epsilon=1e-07, amsgrad=False)\n",
        "# train_op = tf.keras.optimizers.adam(amsgrad=True)\n",
        "model.compile(optimizer ='adam',loss = 'categorical_crossentropy', metrics = ['accuracy'])\n",
        "model.fit(x_train, Y_train, epochs = 100, batch_size = 128)"
      ],
      "execution_count": null,
      "outputs": [
        {
          "output_type": "stream",
          "text": [
            "Epoch 1/100\n",
            "983/983 [==============================] - 6s 6ms/step - loss: 0.1786 - accuracy: 0.9414\n",
            "Epoch 2/100\n",
            "983/983 [==============================] - 6s 6ms/step - loss: 0.1499 - accuracy: 0.9525\n",
            "Epoch 3/100\n",
            "983/983 [==============================] - 6s 6ms/step - loss: 0.1452 - accuracy: 0.9537\n",
            "Epoch 4/100\n",
            "983/983 [==============================] - 6s 6ms/step - loss: 0.1422 - accuracy: 0.9548\n",
            "Epoch 5/100\n",
            "983/983 [==============================] - 6s 6ms/step - loss: 0.1398 - accuracy: 0.9552\n",
            "Epoch 6/100\n",
            "983/983 [==============================] - 6s 6ms/step - loss: 0.1376 - accuracy: 0.9554\n",
            "Epoch 7/100\n",
            "983/983 [==============================] - 6s 6ms/step - loss: 0.1356 - accuracy: 0.9557\n",
            "Epoch 8/100\n",
            "983/983 [==============================] - 6s 6ms/step - loss: 0.1344 - accuracy: 0.9558\n",
            "Epoch 9/100\n",
            "983/983 [==============================] - 6s 6ms/step - loss: 0.1334 - accuracy: 0.9560\n",
            "Epoch 10/100\n",
            "983/983 [==============================] - 5s 6ms/step - loss: 0.1329 - accuracy: 0.9564\n",
            "Epoch 11/100\n",
            "983/983 [==============================] - 6s 6ms/step - loss: 0.1319 - accuracy: 0.9556\n",
            "Epoch 12/100\n",
            "983/983 [==============================] - 6s 6ms/step - loss: 0.1321 - accuracy: 0.9562\n",
            "Epoch 13/100\n",
            "983/983 [==============================] - 6s 6ms/step - loss: 0.1315 - accuracy: 0.9565\n",
            "Epoch 14/100\n",
            "983/983 [==============================] - 6s 6ms/step - loss: 0.1298 - accuracy: 0.9567\n",
            "Epoch 15/100\n",
            "983/983 [==============================] - 6s 6ms/step - loss: 0.1294 - accuracy: 0.9564\n",
            "Epoch 16/100\n",
            "983/983 [==============================] - 6s 6ms/step - loss: 0.1257 - accuracy: 0.9565\n",
            "Epoch 17/100\n",
            "983/983 [==============================] - 6s 6ms/step - loss: 0.1210 - accuracy: 0.9568\n",
            "Epoch 18/100\n",
            "983/983 [==============================] - 6s 6ms/step - loss: 0.1180 - accuracy: 0.9584\n",
            "Epoch 19/100\n",
            "983/983 [==============================] - 6s 6ms/step - loss: 0.1151 - accuracy: 0.9589\n",
            "Epoch 20/100\n",
            "983/983 [==============================] - 6s 6ms/step - loss: 0.1128 - accuracy: 0.9598\n",
            "Epoch 21/100\n",
            "983/983 [==============================] - 6s 6ms/step - loss: 0.1132 - accuracy: 0.9606\n",
            "Epoch 22/100\n",
            "983/983 [==============================] - 6s 6ms/step - loss: 0.1121 - accuracy: 0.9606\n",
            "Epoch 23/100\n",
            "983/983 [==============================] - 6s 6ms/step - loss: 0.1126 - accuracy: 0.9605\n",
            "Epoch 24/100\n",
            "983/983 [==============================] - 6s 6ms/step - loss: 0.1124 - accuracy: 0.9610\n",
            "Epoch 25/100\n",
            "983/983 [==============================] - 6s 6ms/step - loss: 0.1109 - accuracy: 0.9614\n",
            "Epoch 26/100\n",
            "983/983 [==============================] - 6s 6ms/step - loss: 0.1095 - accuracy: 0.9615\n",
            "Epoch 27/100\n",
            "983/983 [==============================] - 6s 6ms/step - loss: 0.1093 - accuracy: 0.9613\n",
            "Epoch 28/100\n",
            "983/983 [==============================] - 6s 6ms/step - loss: 0.1102 - accuracy: 0.9611\n",
            "Epoch 29/100\n",
            "983/983 [==============================] - 6s 6ms/step - loss: 0.1089 - accuracy: 0.9615\n",
            "Epoch 30/100\n",
            "983/983 [==============================] - 6s 6ms/step - loss: 0.1104 - accuracy: 0.9616\n",
            "Epoch 31/100\n",
            "983/983 [==============================] - 6s 6ms/step - loss: 0.1095 - accuracy: 0.9614\n",
            "Epoch 32/100\n",
            "983/983 [==============================] - 6s 6ms/step - loss: 0.1078 - accuracy: 0.9616\n",
            "Epoch 33/100\n",
            "983/983 [==============================] - 6s 6ms/step - loss: 0.1095 - accuracy: 0.9614\n",
            "Epoch 34/100\n",
            "983/983 [==============================] - 6s 6ms/step - loss: 0.1086 - accuracy: 0.9619\n",
            "Epoch 35/100\n",
            "983/983 [==============================] - 6s 6ms/step - loss: 0.1099 - accuracy: 0.9618\n",
            "Epoch 36/100\n",
            "983/983 [==============================] - 6s 6ms/step - loss: 0.1084 - accuracy: 0.9618\n",
            "Epoch 37/100\n",
            "983/983 [==============================] - 6s 6ms/step - loss: 0.1082 - accuracy: 0.9620\n",
            "Epoch 38/100\n",
            "983/983 [==============================] - 6s 6ms/step - loss: 0.1092 - accuracy: 0.9618\n",
            "Epoch 39/100\n",
            "983/983 [==============================] - 6s 6ms/step - loss: 0.1098 - accuracy: 0.9615\n",
            "Epoch 40/100\n",
            "983/983 [==============================] - 6s 6ms/step - loss: 0.1076 - accuracy: 0.9620\n",
            "Epoch 41/100\n",
            "983/983 [==============================] - 6s 6ms/step - loss: 0.1082 - accuracy: 0.9620\n",
            "Epoch 42/100\n",
            "983/983 [==============================] - 6s 6ms/step - loss: 0.1081 - accuracy: 0.9620\n",
            "Epoch 43/100\n",
            "983/983 [==============================] - 6s 6ms/step - loss: 0.1091 - accuracy: 0.9619\n",
            "Epoch 44/100\n",
            "983/983 [==============================] - 6s 6ms/step - loss: 0.1085 - accuracy: 0.9619\n",
            "Epoch 45/100\n",
            "983/983 [==============================] - 6s 6ms/step - loss: 0.1078 - accuracy: 0.9621\n",
            "Epoch 46/100\n",
            "983/983 [==============================] - 6s 6ms/step - loss: 0.1085 - accuracy: 0.9621\n",
            "Epoch 47/100\n",
            "983/983 [==============================] - 6s 6ms/step - loss: 0.1082 - accuracy: 0.9620\n",
            "Epoch 48/100\n",
            "983/983 [==============================] - 6s 6ms/step - loss: 0.1077 - accuracy: 0.9619\n",
            "Epoch 49/100\n",
            "983/983 [==============================] - 5s 6ms/step - loss: 0.1076 - accuracy: 0.9622\n",
            "Epoch 50/100\n",
            "983/983 [==============================] - 6s 6ms/step - loss: 0.1077 - accuracy: 0.9621\n",
            "Epoch 51/100\n",
            "983/983 [==============================] - 6s 6ms/step - loss: 0.1072 - accuracy: 0.9621\n",
            "Epoch 52/100\n",
            "983/983 [==============================] - 6s 6ms/step - loss: 0.1078 - accuracy: 0.9622\n",
            "Epoch 53/100\n",
            "983/983 [==============================] - 6s 6ms/step - loss: 0.1086 - accuracy: 0.9617\n",
            "Epoch 54/100\n",
            "983/983 [==============================] - 6s 6ms/step - loss: 0.1079 - accuracy: 0.9621\n",
            "Epoch 55/100\n",
            "983/983 [==============================] - 6s 6ms/step - loss: 0.1076 - accuracy: 0.9623\n",
            "Epoch 56/100\n",
            "983/983 [==============================] - 6s 6ms/step - loss: 0.1071 - accuracy: 0.9625\n",
            "Epoch 57/100\n",
            "983/983 [==============================] - 6s 6ms/step - loss: 0.1075 - accuracy: 0.9619\n",
            "Epoch 58/100\n",
            "983/983 [==============================] - 6s 6ms/step - loss: 0.1073 - accuracy: 0.9620\n",
            "Epoch 59/100\n",
            "983/983 [==============================] - 5s 6ms/step - loss: 0.1069 - accuracy: 0.9623\n",
            "Epoch 60/100\n",
            "983/983 [==============================] - 6s 6ms/step - loss: 0.1077 - accuracy: 0.9621\n",
            "Epoch 61/100\n",
            "983/983 [==============================] - 6s 6ms/step - loss: 0.1072 - accuracy: 0.9622\n",
            "Epoch 62/100\n",
            "983/983 [==============================] - 6s 6ms/step - loss: 0.1112 - accuracy: 0.9617\n",
            "Epoch 63/100\n",
            "983/983 [==============================] - 6s 6ms/step - loss: 0.1087 - accuracy: 0.9620\n",
            "Epoch 64/100\n",
            "983/983 [==============================] - 6s 6ms/step - loss: 0.1075 - accuracy: 0.9620\n",
            "Epoch 65/100\n",
            "983/983 [==============================] - 6s 6ms/step - loss: 0.1070 - accuracy: 0.9623\n",
            "Epoch 66/100\n",
            "983/983 [==============================] - 6s 6ms/step - loss: 0.1074 - accuracy: 0.9624\n",
            "Epoch 67/100\n",
            "983/983 [==============================] - 6s 6ms/step - loss: 0.1066 - accuracy: 0.9626\n",
            "Epoch 68/100\n",
            "983/983 [==============================] - 6s 6ms/step - loss: 0.1066 - accuracy: 0.9624\n",
            "Epoch 69/100\n",
            "983/983 [==============================] - 6s 6ms/step - loss: 0.1071 - accuracy: 0.9625\n",
            "Epoch 70/100\n",
            "983/983 [==============================] - 6s 6ms/step - loss: 0.1065 - accuracy: 0.9624\n",
            "Epoch 71/100\n",
            "983/983 [==============================] - 6s 6ms/step - loss: 0.1066 - accuracy: 0.9625\n",
            "Epoch 72/100\n",
            "983/983 [==============================] - 6s 6ms/step - loss: 0.1054 - accuracy: 0.9622\n",
            "Epoch 73/100\n",
            "983/983 [==============================] - 6s 6ms/step - loss: 0.1059 - accuracy: 0.9627\n",
            "Epoch 74/100\n",
            "983/983 [==============================] - 6s 6ms/step - loss: 0.1059 - accuracy: 0.9624\n",
            "Epoch 75/100\n",
            "983/983 [==============================] - 6s 6ms/step - loss: 0.1054 - accuracy: 0.9624\n",
            "Epoch 76/100\n",
            "983/983 [==============================] - 6s 6ms/step - loss: 0.1069 - accuracy: 0.9623\n",
            "Epoch 77/100\n",
            "983/983 [==============================] - 6s 6ms/step - loss: 0.1066 - accuracy: 0.9623\n",
            "Epoch 78/100\n",
            "983/983 [==============================] - 6s 6ms/step - loss: 0.1057 - accuracy: 0.9625\n",
            "Epoch 79/100\n",
            "983/983 [==============================] - 6s 6ms/step - loss: 0.1067 - accuracy: 0.9622\n",
            "Epoch 80/100\n",
            "983/983 [==============================] - 6s 6ms/step - loss: 0.1066 - accuracy: 0.9624\n",
            "Epoch 81/100\n",
            "983/983 [==============================] - 6s 6ms/step - loss: 0.1063 - accuracy: 0.9625\n",
            "Epoch 82/100\n",
            "983/983 [==============================] - 6s 6ms/step - loss: 0.1062 - accuracy: 0.9623\n",
            "Epoch 83/100\n",
            "983/983 [==============================] - 6s 6ms/step - loss: 0.1076 - accuracy: 0.9621\n",
            "Epoch 84/100\n",
            "983/983 [==============================] - 6s 6ms/step - loss: 0.1079 - accuracy: 0.9622\n",
            "Epoch 85/100\n",
            "983/983 [==============================] - 6s 6ms/step - loss: 0.1053 - accuracy: 0.9625\n",
            "Epoch 86/100\n",
            "983/983 [==============================] - 6s 6ms/step - loss: 0.1065 - accuracy: 0.9623\n",
            "Epoch 87/100\n",
            "983/983 [==============================] - 6s 6ms/step - loss: 0.1065 - accuracy: 0.9624\n",
            "Epoch 88/100\n",
            "983/983 [==============================] - 6s 6ms/step - loss: 0.1060 - accuracy: 0.9623\n",
            "Epoch 89/100\n",
            "983/983 [==============================] - 6s 6ms/step - loss: 0.1061 - accuracy: 0.9625\n",
            "Epoch 90/100\n",
            "983/983 [==============================] - 6s 6ms/step - loss: 0.1091 - accuracy: 0.9619\n",
            "Epoch 91/100\n",
            "983/983 [==============================] - 6s 6ms/step - loss: 0.1067 - accuracy: 0.9626\n",
            "Epoch 92/100\n",
            "983/983 [==============================] - 6s 6ms/step - loss: 0.1060 - accuracy: 0.9623\n",
            "Epoch 93/100\n",
            "983/983 [==============================] - 6s 6ms/step - loss: 0.1055 - accuracy: 0.9627\n",
            "Epoch 94/100\n",
            "983/983 [==============================] - 6s 6ms/step - loss: 0.1061 - accuracy: 0.9625\n",
            "Epoch 95/100\n",
            "983/983 [==============================] - 6s 6ms/step - loss: 0.1058 - accuracy: 0.9625\n",
            "Epoch 96/100\n",
            "983/983 [==============================] - 5s 6ms/step - loss: 0.1066 - accuracy: 0.9624\n",
            "Epoch 97/100\n",
            "983/983 [==============================] - 6s 6ms/step - loss: 0.1063 - accuracy: 0.9624\n",
            "Epoch 98/100\n",
            "983/983 [==============================] - 6s 6ms/step - loss: 0.1060 - accuracy: 0.9627\n",
            "Epoch 99/100\n",
            "983/983 [==============================] - 6s 6ms/step - loss: 0.1064 - accuracy: 0.9627\n",
            "Epoch 100/100\n",
            "983/983 [==============================] - 6s 6ms/step - loss: 0.1065 - accuracy: 0.9622\n"
          ],
          "name": "stdout"
        },
        {
          "output_type": "execute_result",
          "data": {
            "text/plain": [
              "<tensorflow.python.keras.callbacks.History at 0x7f20f764d4e0>"
            ]
          },
          "metadata": {
            "tags": []
          },
          "execution_count": 185
        }
      ]
    },
    {
      "cell_type": "code",
      "metadata": {
        "id": "xfRmnVr0KC5z",
        "outputId": "c16fbe13-3362-4921-bfed-e0ce9fdcd2be",
        "colab": {
          "base_uri": "https://localhost:8080/",
          "height": 1000
        }
      },
      "source": [
        "tf.keras.utils.plot_model(model, 'my_first_model.png', show_shapes=True)"
      ],
      "execution_count": null,
      "outputs": [
        {
          "output_type": "execute_result",
          "data": {
            "image/png": "[encoded data removed]",
            "text/plain": [
              "<IPython.core.display.Image object>"
            ]
          },
          "metadata": {
            "tags": []
          },
          "execution_count": 186
        }
      ]
    },
    {
      "cell_type": "code",
      "metadata": {
        "id": "DUIIh9uNkd26"
      },
      "source": [
        "pred = model.predict(x_test)\n",
        "y_pred= np.argmax(pred, axis = 1)"
      ],
      "execution_count": null,
      "outputs": []
    },
    {
      "cell_type": "markdown",
      "metadata": {
        "id": "cYLdVuE8H2tZ"
      },
      "source": [
        "Evaluation of the model"
      ]
    },
    {
      "cell_type": "code",
      "metadata": {
        "id": "GH3llzXYke4V"
      },
      "source": [
        "from sklearn.metrics import confusion_matrix,accuracy_score\n",
        "from sklearn.metrics import (precision_score, recall_score,\n",
        "                             f1_score, accuracy_score,mean_squared_error,mean_absolute_error)"
      ],
      "execution_count": null,
      "outputs": []
    },
    {
      "cell_type": "code",
      "metadata": {
        "id": "Vb63sVRLkq72",
        "outputId": "1eb08956-07d6-48ba-9492-9604286b8483",
        "colab": {
          "base_uri": "https://localhost:8080/",
          "height": 51
        }
      },
      "source": [
        "confusion_matrix(Y_test, y_pred)"
      ],
      "execution_count": null,
      "outputs": [
        {
          "output_type": "execute_result",
          "data": {
            "text/plain": [
              "array([[ 8721,   990],\n",
              "       [ 2576, 10238]])"
            ]
          },
          "metadata": {
            "tags": []
          },
          "execution_count": 189
        }
      ]
    },
    {
      "cell_type": "code",
      "metadata": {
        "id": "Y253QfwKkwFZ",
        "outputId": "61e1961b-4a57-438e-e65d-7bbad76a196e",
        "colab": {
          "base_uri": "https://localhost:8080/",
          "height": 34
        }
      },
      "source": [
        "accuracy =accuracy_score(Y_test, y_pred)*100\n",
        "print(accuracy)"
      ],
      "execution_count": null,
      "outputs": [
        {
          "output_type": "stream",
          "text": [
            "84.16870144284128\n"
          ],
          "name": "stdout"
        }
      ]
    },
    {
      "cell_type": "code",
      "metadata": {
        "id": "l51SftKmnpOF",
        "outputId": "64d598af-9e24-493d-c47f-96ba7d90b293",
        "colab": {
          "base_uri": "https://localhost:8080/",
          "height": 34
        }
      },
      "source": [
        "print(y_pred)\n",
        "# print(len(y_pred))"
      ],
      "execution_count": null,
      "outputs": [
        {
          "output_type": "stream",
          "text": [
            "[1 1 0 ... 1 0 1]\n"
          ],
          "name": "stdout"
        }
      ]
    },
    {
      "cell_type": "code",
      "metadata": {
        "id": "0Dnfh4W_n0F7",
        "outputId": "2c53ec8e-af82-495d-f62f-9b7facef508f",
        "colab": {
          "base_uri": "https://localhost:8080/",
          "height": 221
        }
      },
      "source": [
        "print(y_21_test)"
      ],
      "execution_count": null,
      "outputs": [
        {
          "output_type": "stream",
          "text": [
            "0        1\n",
            "1        1\n",
            "2        1\n",
            "3        0\n",
            "4        1\n",
            "        ..\n",
            "11845    0\n",
            "11846    0\n",
            "11847    1\n",
            "11848    1\n",
            "11849    1\n",
            "Name: label, Length: 11850, dtype: int64\n"
          ],
          "name": "stdout"
        }
      ]
    },
    {
      "cell_type": "code",
      "metadata": {
        "id": "TXQTWJSCsJDu"
      },
      "source": [
        "pred = model.predict(x_21_test)\n",
        "y_pred= np.argmax(pred, axis = 1)"
      ],
      "execution_count": null,
      "outputs": []
    },
    {
      "cell_type": "code",
      "metadata": {
        "id": "HbP5vIUMef_u",
        "outputId": "82615553-844b-4876-baeb-a1a0574779eb",
        "colab": {
          "base_uri": "https://localhost:8080/",
          "height": 51
        }
      },
      "source": [
        "confusion_matrix(y_21_test, y_pred)"
      ],
      "execution_count": null,
      "outputs": [
        {
          "output_type": "execute_result",
          "data": {
            "text/plain": [
              "array([[1204,  948],\n",
              "       [2576, 7122]])"
            ]
          },
          "metadata": {
            "tags": []
          },
          "execution_count": 194
        }
      ]
    },
    {
      "cell_type": "code",
      "metadata": {
        "id": "YkU3VFBJsPYU",
        "outputId": "a7991f5e-dde4-4299-f0a1-79a2de4bc9f8",
        "colab": {
          "base_uri": "https://localhost:8080/",
          "height": 34
        }
      },
      "source": [
        "print(y_pred)"
      ],
      "execution_count": null,
      "outputs": [
        {
          "output_type": "stream",
          "text": [
            "[0 1 1 ... 1 1 1]\n"
          ],
          "name": "stdout"
        }
      ]
    },
    {
      "cell_type": "code",
      "metadata": {
        "id": "Uak9Tizyksxl",
        "outputId": "823e828f-432b-44f8-a705-43acf9556105",
        "colab": {
          "base_uri": "https://localhost:8080/",
          "height": 34
        }
      },
      "source": [
        "acc_21 = accuracy_score(y_21_test, y_pred)* 100\n",
        "print(acc_21)"
      ],
      "execution_count": null,
      "outputs": [
        {
          "output_type": "stream",
          "text": [
            "70.26160337552743\n"
          ],
          "name": "stdout"
        }
      ]
    },
    {
      "cell_type": "code",
      "metadata": {
        "id": "RpYAdmDVHtUj"
      },
      "source": [
        "recall = recall_score(y_21_test, y_pred , average=\"binary\")\n",
        "precision = precision_score(y_21_test, y_pred , average=\"binary\")\n",
        "f1 = f1_score(y_21_test, y_pred, average=\"binary\")"
      ],
      "execution_count": null,
      "outputs": []
    },
    {
      "cell_type": "code",
      "metadata": {
        "id": "68ee-uYVIQMo",
        "outputId": "fbe79e7b-c9dc-45d8-e1e3-d4f301d3fe0c",
        "colab": {
          "base_uri": "https://localhost:8080/",
          "height": 153
        }
      },
      "source": [
        "  print(\"accuracy\")\n",
        "  print(\"%.3f\" %acc_21)\n",
        "  print(\"racall\")\n",
        "  print(\"%.3f\" %recall)\n",
        "  print(\"precision\")\n",
        "  print(\"%.3f\" %precision)\n",
        "  print(\"f1score\")\n",
        "  print(f1)"
      ],
      "execution_count": null,
      "outputs": [
        {
          "output_type": "stream",
          "text": [
            "accuracy\n",
            "70.262\n",
            "racall\n",
            "0.734\n",
            "precision\n",
            "0.883\n",
            "f1score\n",
            "0.8016659162539397\n"
          ],
          "name": "stdout"
        }
      ]
    },
    {
      "cell_type": "code",
      "metadata": {
        "id": "jw1gQlSdcFUX",
        "outputId": "ecf32eeb-e9ea-49cd-df3a-4e718a329cb3",
        "colab": {
          "base_uri": "https://localhost:8080/",
          "height": 85
        }
      },
      "source": [
        "print(\"F-Score : \", f1*100)\n",
        "print(\"Precision : \" , precision*100)\n",
        "print(\"Recall : \", recall*100)\n",
        "print(\"Accuracy : \",acc_21)"
      ],
      "execution_count": null,
      "outputs": [
        {
          "output_type": "stream",
          "text": [
            "F-Score :  80.16659162539396\n",
            "Precision :  88.25278810408922\n",
            "Recall :  73.43782223138791\n",
            "Accuracy :  70.26160337552743\n"
          ],
          "name": "stdout"
        }
      ]
    }
  ]
}